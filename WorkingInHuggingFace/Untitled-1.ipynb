{
 "cells": [
  {
   "cell_type": "code",
   "execution_count": null,
   "id": "5441e3ca",
   "metadata": {},
   "outputs": [
    {
     "ename": "",
     "evalue": "",
     "output_type": "error",
     "traceback": [
      "\u001b[1;31mFailed to start the Kernel. \n",
      "\u001b[1;31mc:\\Users\\aland\\anaconda3\\Lib\\site-packages\\debugpy\\_vendored\\pydevd\\pydevd_plugins\\__init__.py:5: UserWarning: pkg_resources is deprecated as an API. See https://setuptools.pypa.io/en/latest/pkg_resources.html. The pkg_resources package is slated for removal as early as 2025-11-30. Refrain from using this package or pin to Setuptools<81.\n",
      "\u001b[1;31m  __import__('pkg_resources').declare_namespace(__name__). \n",
      "\u001b[1;31mView Jupyter <a href='command:jupyter.viewOutput'>log</a> for further details."
     ]
    }
   ],
   "source": [
    "import transformers Autokenizer, AutoModelForSequenceClassification, pipeline"
   ]
  },
  {
   "cell_type": "markdown",
   "id": "09cfadee",
   "metadata": {},
   "source": [
    "Using AutoClasses\n",
    "You’ve seen how tokenizers work and explored their role in preparing text for models. Now, let’s take it a step further by combining AutoModels and AutoTokenizers with the pipeline() function. It's a nice balance of control and convenience.\n",
    "\n",
    "Continue with the sentiment analysis task and combine AutoClasses with the pipeline module.\n",
    "\n",
    "AutoModelForSequenceClassification, AutoTokenizer and pipeline from the transformers library have already been imported for you.\n",
    "\n",
    "\n",
    "\n",
    "- Download the model and tokenizer and save as my_model and my_tokenizer, respectively.\n",
    "- Create the pipeline and save as my_pipeline.\n",
    "- Predict the output using my_pipeline and save as output."
   ]
  },
  {
   "cell_type": "code",
   "execution_count": null,
   "id": "d76d48cb",
   "metadata": {},
   "outputs": [],
   "source": [
    "\n",
    "# Download the model and tokenizer\n",
    "my_model = AutoTokenizer.from_pretrained(\"distilbert-base-uncased-finetuned-sst-2-english\")\n",
    "my_tokenizer = AutoTokenizer.from_pretrained(\"distilbert-base-uncased-finetuned-sst-2-english\")\n",
    "\n",
    "# Create the pipeline\n",
    "my_pipeline = pipeline(task=\"sentiment-analysis\", model=my_model, tokenizer=my_tokenizer)\n",
    "\n",
    "# Predict the sentiment\n",
    "output = my_pipeline(\"This course is pretty good, I guess.\")\n",
    "print(f\"Sentiment using AutoClasses: {output[0]['label']}\")\n"
   ]
  }
 ],
 "metadata": {
  "kernelspec": {
   "display_name": "Python [conda env:anaconda3-envcut]",
   "language": "python",
   "name": "conda-env-anaconda3-envcut-py"
  }
 },
 "nbformat": 4,
 "nbformat_minor": 5
}
