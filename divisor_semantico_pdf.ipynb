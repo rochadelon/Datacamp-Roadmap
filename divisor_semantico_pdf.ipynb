{
  "cells": [
    {
      "cell_type": "markdown",
      "metadata": {
        "id": "view-in-github",
        "colab_type": "text"
      },
      "source": [
        "<a href=\"https://colab.research.google.com/github/rochadelon/Datacamp-Roadmap/blob/main/divisor_semantico_pdf.ipynb\" target=\"_parent\"><img src=\"https://colab.research.google.com/assets/colab-badge.svg\" alt=\"Open In Colab\"/></a>"
      ]
    },
    {
      "cell_type": "markdown",
      "metadata": {
        "id": "iiq1aumuuKso"
      },
      "source": [
        "# DivisorPDFCapitulos\n",
        "\n",
        "Este notebook demonstra como usar a classe `DivisorPDFCapitulos` para detectar e dividir capítulos de um arquivo PDF, tanto via bookmarks (outline) quanto via padrões de texto."
      ],
      "id": "iiq1aumuuKso"
    },
    {
      "cell_type": "markdown",
      "metadata": {
        "id": "B_65VvfjuKsq"
      },
      "source": [
        "## 1. Instalação de Dependências\n",
        "\n",
        "Execute o comando abaixo para instalar o PyPDF2, se ainda não estiver instalado."
      ],
      "id": "B_65VvfjuKsq"
    },
    {
      "cell_type": "code",
      "execution_count": 1,
      "metadata": {
        "colab": {
          "base_uri": "https://localhost:8080/"
        },
        "id": "AeD-OmIiuKsr",
        "outputId": "6b4622a7-7bab-4a97-da80-f1c26f50fc83"
      },
      "outputs": [
        {
          "output_type": "stream",
          "name": "stdout",
          "text": [
            "Collecting PyPDF2\n",
            "  Downloading pypdf2-3.0.1-py3-none-any.whl.metadata (6.8 kB)\n",
            "Downloading pypdf2-3.0.1-py3-none-any.whl (232 kB)\n",
            "\u001b[?25l   \u001b[90m━━━━━━━━━━━━━━━━━━━━━━━━━━━━━━━━━━━━━━━━\u001b[0m \u001b[32m0.0/232.6 kB\u001b[0m \u001b[31m?\u001b[0m eta \u001b[36m-:--:--\u001b[0m\r\u001b[2K   \u001b[91m━━━━━━━━━━━━━━━━━━━━━━━━━━━━━━━━━━━━━━\u001b[0m\u001b[91m╸\u001b[0m\u001b[90m━\u001b[0m \u001b[32m225.3/232.6 kB\u001b[0m \u001b[31m6.8 MB/s\u001b[0m eta \u001b[36m0:00:01\u001b[0m\r\u001b[2K   \u001b[90m━━━━━━━━━━━━━━━━━━━━━━━━━━━━━━━━━━━━━━━━\u001b[0m \u001b[32m232.6/232.6 kB\u001b[0m \u001b[31m4.4 MB/s\u001b[0m eta \u001b[36m0:00:00\u001b[0m\n",
            "\u001b[?25hInstalling collected packages: PyPDF2\n",
            "Successfully installed PyPDF2-3.0.1\n"
          ]
        }
      ],
      "source": [
        "!pip install PyPDF2"
      ],
      "id": "AeD-OmIiuKsr"
    },
    {
      "cell_type": "markdown",
      "metadata": {
        "id": "Jn3DkoJMuKss"
      },
      "source": [
        "## 2. Importações e Definição da Classe\n",
        "\n",
        "Aqui importamos as bibliotecas necessárias e definimos a classe `DivisorPDFCapitulos`."
      ],
      "id": "Jn3DkoJMuKss"
    },
    {
      "cell_type": "code",
      "source": [
        "import os\n",
        "import re\n",
        "from PyPDF2 import PdfReader, PdfWriter\n",
        "from typing import List, Dict\n",
        "\n",
        "\n",
        "from google.colab import drive\n",
        "drive.mount('/content/drive')"
      ],
      "metadata": {
        "colab": {
          "base_uri": "https://localhost:8080/"
        },
        "id": "IwjF3TAIvjBc",
        "outputId": "b81c0c7f-aa03-4100-8bf3-8b93bec40894"
      },
      "id": "IwjF3TAIvjBc",
      "execution_count": 8,
      "outputs": [
        {
          "output_type": "stream",
          "name": "stdout",
          "text": [
            "Mounted at /content/drive\n"
          ]
        }
      ]
    },
    {
      "cell_type": "code",
      "source": [
        "\n",
        "class DivisorPDFCapitulos:\n",
        "    def __init__(self, caminho_pdf: str):\n",
        "        \"\"\"\n",
        "        Inicializa o divisor de PDF\n",
        "        Args:\n",
        "            caminho_pdf (str): Caminho para o arquivo PDF\n",
        "        \"\"\"\n",
        "        self.caminho_pdf = caminho_pdf\n",
        "        self.reader = PdfReader(caminho_pdf)\n",
        "        self.total_paginas = len(self.reader.pages)\n",
        "        self.capitulos = []\n",
        "\n",
        "    def detectar_capitulos_por_bookmark(self) -> List[Dict]:\n",
        "        \"\"\"\n",
        "        Detecta capítulos usando bookmarks/outline do PDF\n",
        "        Returns:\n",
        "            List[Dict]: Lista de capítulos com página inicial e título\n",
        "        \"\"\"\n",
        "        capitulos = []\n",
        "        if hasattr(self.reader, 'outline') and self.reader.outline:\n",
        "            for item in self.reader.outline:\n",
        "                if isinstance(item, dict) and '/Title' in item:\n",
        "                    try:\n",
        "                        pagina = self.reader.get_destination_page_number(item) + 1\n",
        "                        titulo = item['/Title']\n",
        "                        capitulos.append({\n",
        "                            'titulo': titulo,\n",
        "                            'pagina_inicial': pagina,\n",
        "                            'pagina_final': None\n",
        "                        })\n",
        "                    except:\n",
        "                        continue\n",
        "\n",
        "        capitulos.sort(key=lambda x: x['pagina_inicial'])\n",
        "        for i in range(len(capitulos)):\n",
        "            if i < len(capitulos) - 1:\n",
        "                capitulos[i]['pagina_final'] = capitulos[i+1]['pagina_inicial'] - 1\n",
        "            else:\n",
        "                capitulos[i]['pagina_final'] = self.total_paginas\n",
        "        return capitulos\n",
        "\n",
        "    def detectar_capitulos_por_texto(self, padroes: List[str] = None) -> List[Dict]:\n",
        "        \"\"\"\n",
        "        Detecta capítulos baseado em padrões de texto\n",
        "        Args:\n",
        "            padroes (List[str]): Lista de padrões regex para identificar capítulos\n",
        "        Returns:\n",
        "            List[Dict]: Lista de capítulos detectados\n",
        "        \"\"\"\n",
        "        if padroes is None:\n",
        "            padroes = [\n",
        "                r'^\\s*CAPÍTULO\\s+\\d+',\n",
        "                r'^\\s*CHAPTER\\s+\\d+',\n",
        "                r'^\\s*Cap\\s*\\.\\s*\\d+',\n",
        "                r'^\\s*\\d+\\.\\s+[A-ZÁÉÍÓÚ][A-Za-záéíóúÁÉÍÓÚ\\s]{10,}$',\n",
        "                r'^\\s*[IVX]+\\.\\s+[A-ZÁÉÍÓÚ]',\n",
        "                r'^\\s*\\d+\\s+-\\s+[A-ZÁÉÍÓÚ]'\n",
        "            ]\n",
        "\n",
        "        capitulos = []\n",
        "        for num_pagina in range(self.total_paginas):\n",
        "            try:\n",
        "                texto = self.reader.pages[num_pagina].extract_text()\n",
        "                linhas = texto.split('\\n')\n",
        "\n",
        "                for linha in linhas[:10]:\n",
        "                    if not linha.strip():\n",
        "                        continue\n",
        "\n",
        "                    for padrao in padroes:\n",
        "                        if re.match(padrao, linha, re.IGNORECASE):\n",
        "                            capitulos.append({\n",
        "                                'titulo': linha.strip(),\n",
        "                                'pagina_inicial': num_pagina + 1,\n",
        "                                'pagina_final': None\n",
        "                            })\n",
        "                            break\n",
        "\n",
        "                    if capitulos and capitulos[-1]['pagina_inicial'] == num_pagina + 1:\n",
        "                        break\n",
        "            except Exception:\n",
        "                continue\n",
        "\n",
        "        capitulos.sort(key=lambda x: x['pagina_inicial'])\n",
        "        for i in range(len(capitulos)):\n",
        "            if i < len(capitulos) - 1:\n",
        "                capitulos[i]['pagina_final'] = capitulos[i+1]['pagina_inicial'] - 1\n",
        "            else:\n",
        "                capitulos[i]['pagina_final'] = self.total_paginas\n",
        "        return capitulos\n",
        "\n",
        "    def dividir_por_capitulos(self, output_dir: str = 'capitulos', usar_bookmarks: bool = True) -> List[str]:\n",
        "        \"\"\"\n",
        "        Divide o PDF em arquivos separados por capítulo\n",
        "        Args:\n",
        "            output_dir (str): Diretório de saída para os arquivos\n",
        "            usar_bookmarks (bool): Se True, tenta usar bookmarks primeiro\n",
        "        Returns:\n",
        "            List[str]: Lista de caminhos dos arquivos criados\n",
        "        \"\"\"\n",
        "        if not os.path.exists(output_dir):\n",
        "            os.makedirs(output_dir)\n",
        "\n",
        "        if usar_bookmarks:\n",
        "            self.capitulos = self.detectar_capitulos_por_bookmark()\n",
        "            if not self.capitulos:\n",
        "                self.capitulos = self.detectar_capitulos_por_texto()\n",
        "        else:\n",
        "            self.capitulos = self.detectar_capitulos_por_texto()\n",
        "\n",
        "        if not self.capitulos:\n",
        "            return self.dividir_por_paginas(output_dir)\n",
        "\n",
        "        arquivos_criados = []\n",
        "        for i, cap in enumerate(self.capitulos):\n",
        "            writer = PdfWriter()\n",
        "            for p in range(cap['pagina_inicial'] - 1, cap['pagina_final']):\n",
        "                writer.add_page(self.reader.pages[p])\n",
        "\n",
        "            nome = re.sub(r'[<>:\"/\\\\|?*]', '_', cap['titulo'])[:50]\n",
        "            nome = f\"Cap_{i+1:02d}_{nome}.pdf\"\n",
        "            caminho = os.path.join(output_dir, nome)\n",
        "\n",
        "            with open(caminho, 'wb') as f:\n",
        "                writer.write(f)\n",
        "            arquivos_criados.append(caminho)\n",
        "\n",
        "        return arquivos_criados\n",
        "\n",
        "    def dividir_por_paginas(self, output_dir: str = 'paginas', paginas_por_arquivo: int = 10) -> List[str]:\n",
        "        \"\"\"\n",
        "        Divide o PDF em arquivos com número fixo de páginas\n",
        "        \"\"\"\n",
        "        if not os.path.exists(output_dir):\n",
        "            os.makedirs(output_dir)\n",
        "\n",
        "        arquivos = []\n",
        "        for inicio in range(0, self.total_paginas, paginas_por_arquivo):\n",
        "            writer = PdfWriter()\n",
        "            fim = min(inicio + paginas_por_arquivo, self.total_paginas)\n",
        "\n",
        "            for p in range(inicio, fim):\n",
        "                writer.add_page(self.reader.pages[p])\n",
        "\n",
        "            nome = f\"Parte_{inicio+1:03d}_{fim:03d}.pdf\"\n",
        "            caminho = os.path.join(output_dir, nome)\n",
        "\n",
        "            with open(caminho, 'wb') as f:\n",
        "                writer.write(f)\n",
        "            arquivos.append(caminho)\n",
        "\n",
        "        return arquivos\n",
        "\n",
        "# Exemplo de uso - teste sem arquivo para verificar se a classe foi carregada corretamente\n",
        "\n",
        "\n"
      ],
      "metadata": {
        "id": "moU_hdmTu_Gq"
      },
      "id": "moU_hdmTu_Gq",
      "execution_count": 13,
      "outputs": []
    },
    {
      "cell_type": "markdown",
      "source": [
        "# 3. Exemplo de uso"
      ],
      "metadata": {
        "id": "B-Njl-NZybzw"
      },
      "id": "B-Njl-NZybzw"
    },
    {
      "cell_type": "code",
      "source": [
        "divisor = DivisorPDFCapitulos('/content/drive/MyDrive/Projetos/Ciência da Computação/Estrutura de Dados/algoritmos-teoria-e-prc3a1tica-3ed-thomas-cormen.pdf')\n",
        "divisor.detectar_capitulos_por_bookmark()\n",
        "divisor.dividir_por_capitulos(\"/content/drive/MyDrive/Nova pasta\",True)"
      ],
      "metadata": {
        "colab": {
          "base_uri": "https://localhost:8080/"
        },
        "id": "mdtzfwu8xFQC",
        "outputId": "ff8a4c9f-5b92-475e-d308-501aeccae611"
      },
      "id": "mdtzfwu8xFQC",
      "execution_count": 15,
      "outputs": [
        {
          "output_type": "execute_result",
          "data": {
            "text/plain": [
              "['/content/drive/MyDrive/Nova pasta/Cap_01_Folha de Rosto.pdf',\n",
              " '/content/drive/MyDrive/Nova pasta/Cap_02_Copyright.pdf',\n",
              " '/content/drive/MyDrive/Nova pasta/Cap_03_Prefácio.pdf',\n",
              " '/content/drive/MyDrive/Nova pasta/Cap_04_Sumário.pdf',\n",
              " '/content/drive/MyDrive/Nova pasta/Cap_05_Parte I _ Fundamentos.pdf',\n",
              " '/content/drive/MyDrive/Nova pasta/Cap_06_Parte II _ Ordenação e estatísticas de ordem.pdf',\n",
              " '/content/drive/MyDrive/Nova pasta/Cap_07_Parte III _ Estruturas de dados.pdf',\n",
              " '/content/drive/MyDrive/Nova pasta/Cap_08_Parte IV _ Técnicas avançadas de projeto e análise.pdf',\n",
              " '/content/drive/MyDrive/Nova pasta/Cap_09_Parte V _ Estruturas de dados avançadas.pdf',\n",
              " '/content/drive/MyDrive/Nova pasta/Cap_10_Parte VI _ Algoritmos de grafos.pdf',\n",
              " '/content/drive/MyDrive/Nova pasta/Cap_11_Parte VII _ Tópicos selecionados.pdf',\n",
              " '/content/drive/MyDrive/Nova pasta/Cap_12_Parte VIII _ Apêndice_ Fundamentos de matemática.pdf',\n",
              " '/content/drive/MyDrive/Nova pasta/Cap_13_Bibliografia.pdf',\n",
              " '/content/drive/MyDrive/Nova pasta/Cap_14_Índice.pdf']"
            ]
          },
          "metadata": {},
          "execution_count": 15
        }
      ]
    }
  ],
  "metadata": {
    "kernelspec": {
      "display_name": "Python 3",
      "language": "python",
      "name": "python3"
    },
    "language_info": {
      "name": "python",
      "version": ""
    },
    "colab": {
      "provenance": [],
      "include_colab_link": true
    }
  },
  "nbformat": 4,
  "nbformat_minor": 5
}