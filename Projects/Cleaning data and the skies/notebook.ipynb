{
 "cells": [
  {
   "cell_type": "markdown",
   "id": "b1684a8d-c5a7-4596-bfe4-b37c611971d7",
   "metadata": {},
   "source": [
    "# c\n",
    "\n",
    "## 📖 Background\n",
    "Your are a data analyst at an environmental company. Your task is to evaluate ozone pollution across various regions.\n",
    "\n",
    "You’ve obtained data from the U.S. Environmental Protection Agency (EPA), containing daily ozone measurements at monitoring stations across California. However, like many real-world datasets, it’s far from clean: there are missing values, inconsistent formats, potential duplicates, and outliers.\n",
    "\n",
    "Before you can provide meaningful insights, you must clean and validate the data. Only then can you analyze it to uncover trends, identify high-risk regions, and assess where policy interventions are most urgently needed."
   ]
  },
  {
   "cell_type": "markdown",
   "id": "7799095a-fd55-455b-b3d2-8c9c7371586c",
   "metadata": {
    "collapsed": false,
    "jupyter": {
     "outputs_hidden": false,
     "source_hidden": true
    }
   },
   "source": [
    "## 💾 The data\n",
    "The data is a modified dataset from the U.S. Environmental Protection Agency ([EPA](https://www.epa.gov/outdoor-air-quality-data/download-daily-data)). \n",
    "\n",
    "#### Ozone contains the daily air quality summary statistics by monitor for the state of California for 2024. Each row contains the date and the air quality metrics per collection method and site\n",
    "- \"Date\" - the calendar date with which the air quality values are associated\n",
    "- \"Source\" - the data source: EPA's Air Quality System (AQS), or Airnow reports\n",
    "- \"Site ID\" - the id for the air monitoring site\n",
    "- \"POC\" - the id number for the monitor\n",
    "- \"Daily Max 8-hour Ozone Concentration\" - the highest 8-hour value of the day for ozone concentration\n",
    "- \"Units\" - parts per million by volume (ppm)\n",
    "- \"Daily AQI Value\" - the highest air quality index value for the day, telling how clean or polluted the air is (a value of 50 represents good air quality, while a value above 300 is hazardous)\n",
    "- \"Local Site Name\" - name of the monitoring site\n",
    "- \"Daily Obs Count\" - number of observations reported in that day\n",
    "- \"Percent Complete\" - indicates whether all expected samples were collected\n",
    "- \"Method Code\" - identifier for the collection method\n",
    "- \"CBSA Code\" - identifier for the core base statistical area (CBSA)\n",
    "- \"CBSA Name\" - name of the core base statistical area\n",
    "- \"State FIPS Code\" - identifier for the state\n",
    "- \"State\" - name of the state\n",
    "- \"County FIPS Code\" - identifer for the county\n",
    "- \"County\" - name of the county\n",
    "- \"Site Latitude\" - latitude coordinates of the site\n",
    "- \"Site Longitude\" - longitude coordinates of the side"
   ]
  },
  {
   "cell_type": "code",
   "execution_count": 6,
   "id": "2e7dcaa1-9afd-424d-8c6e-3399c938f56d",
   "metadata": {
    "executionCancelledAt": null,
    "executionTime": 105,
    "lastExecutedAt": 1747736514908,
    "lastExecutedByKernel": "8f1c8a47-5395-4ad3-8cbc-85270c528179",
    "lastScheduledRunId": null,
    "lastSuccessfullyExecutedCode": "import pandas as pd\nozone = pd.read_csv('data/ozone.csv')\nozone.head()",
    "outputsMetadata": {
     "0": {
      "height": 1,
      "tableState": {
       "customFilter": {
        "const": {
         "type": "boolean",
         "valid": true,
         "value": true
        },
        "id": "b4787edd-35bd-41dc-bf1e-334b2987f25a",
        "nodeType": "const"
       }
      },
      "type": "dataFrame"
     }
    }
   },
   "outputs": [
    {
     "data": {
      "application/com.datacamp.data-table.v2+json": {
       "table": {
        "data": {
         "CBSA Code": [
          41860,
          41860,
          41860,
          41860,
          41860
         ],
         "CBSA Name": [
          "San Francisco-Oakland-Hayward, CA",
          "San Francisco-Oakland-Hayward, CA",
          "San Francisco-Oakland-Hayward, CA",
          "San Francisco-Oakland-Hayward, CA",
          "San Francisco-Oakland-Hayward, CA"
         ],
         "County": [
          "Alameda",
          "Alameda",
          "Alameda",
          "Alameda",
          "Alameda"
         ],
         "County FIPS Code": [
          1,
          1,
          1,
          1,
          1
         ],
         "Daily AQI Value": [
          29,
          34,
          30,
          24,
          25
         ],
         "Daily Max 8-hour Ozone Concentration": [
          0.031,
          0.037,
          null,
          0.026,
          0.027
         ],
         "Daily Obs Count": [
          17,
          17,
          17,
          17,
          17
         ],
         "Date": [
          "/2024",
          "01/02/2024",
          "/2024",
          "January 04/2024",
          "January 05/2024"
         ],
         "Local Site Name": [
          "Livermore",
          "Livermore",
          "Livermore",
          "Livermore",
          "Livermore"
         ],
         "Method Code": [
          47,
          47,
          47,
          47,
          47
         ],
         "POC": [
          1,
          1,
          1,
          1,
          1
         ],
         "Percent Complete": [
          100,
          100,
          100,
          100,
          100
         ],
         "Site ID": [
          60010007,
          60010007,
          60010007,
          60010007,
          60010007
         ],
         "Site Latitude": [
          37.687526,
          37.687526,
          37.687526,
          37.687526,
          37.687526
         ],
         "Site Longitude": [
          -121.784217,
          -121.784217,
          -121.784217,
          -121.784217,
          -121.784217
         ],
         "Source": [
          "AQS",
          "AQS",
          "AQS",
          "AQS",
          "AQS"
         ],
         "Units": [
          "ppm",
          "ppm",
          "ppm",
          "ppm",
          "ppm"
         ],
         "index": [
          0,
          1,
          2,
          3,
          4
         ]
        },
        "schema": {
         "fields": [
          {
           "name": "index",
           "type": "integer"
          },
          {
           "name": "Date",
           "type": "string"
          },
          {
           "name": "Source",
           "type": "string"
          },
          {
           "name": "Site ID",
           "type": "integer"
          },
          {
           "name": "POC",
           "type": "integer"
          },
          {
           "name": "Daily Max 8-hour Ozone Concentration",
           "type": "number"
          },
          {
           "name": "Units",
           "type": "string"
          },
          {
           "name": "Daily AQI Value",
           "type": "number"
          },
          {
           "name": "Local Site Name",
           "type": "string"
          },
          {
           "name": "Daily Obs Count",
           "type": "integer"
          },
          {
           "name": "Percent Complete",
           "type": "number"
          },
          {
           "name": "Method Code",
           "type": "number"
          },
          {
           "name": "CBSA Code",
           "type": "number"
          },
          {
           "name": "CBSA Name",
           "type": "string"
          },
          {
           "name": "County FIPS Code",
           "type": "integer"
          },
          {
           "name": "County",
           "type": "string"
          },
          {
           "name": "Site Latitude",
           "type": "number"
          },
          {
           "name": "Site Longitude",
           "type": "number"
          }
         ],
         "pandas_version": "1.4.0",
         "primaryKey": [
          "index"
         ]
        }
       },
       "total_rows": 5,
       "truncation_type": null
      },
      "text/html": [
       "<div>\n",
       "<style scoped>\n",
       "    .dataframe tbody tr th:only-of-type {\n",
       "        vertical-align: middle;\n",
       "    }\n",
       "\n",
       "    .dataframe tbody tr th {\n",
       "        vertical-align: top;\n",
       "    }\n",
       "\n",
       "    .dataframe thead th {\n",
       "        text-align: right;\n",
       "    }\n",
       "</style>\n",
       "<table border=\"1\" class=\"dataframe\">\n",
       "  <thead>\n",
       "    <tr style=\"text-align: right;\">\n",
       "      <th></th>\n",
       "      <th>Date</th>\n",
       "      <th>Source</th>\n",
       "      <th>Site ID</th>\n",
       "      <th>POC</th>\n",
       "      <th>Daily Max 8-hour Ozone Concentration</th>\n",
       "      <th>Units</th>\n",
       "      <th>Daily AQI Value</th>\n",
       "      <th>Local Site Name</th>\n",
       "      <th>Daily Obs Count</th>\n",
       "      <th>Percent Complete</th>\n",
       "      <th>Method Code</th>\n",
       "      <th>CBSA Code</th>\n",
       "      <th>CBSA Name</th>\n",
       "      <th>County FIPS Code</th>\n",
       "      <th>County</th>\n",
       "      <th>Site Latitude</th>\n",
       "      <th>Site Longitude</th>\n",
       "    </tr>\n",
       "  </thead>\n",
       "  <tbody>\n",
       "    <tr>\n",
       "      <th>0</th>\n",
       "      <td>/2024</td>\n",
       "      <td>AQS</td>\n",
       "      <td>60010007</td>\n",
       "      <td>1</td>\n",
       "      <td>0.031</td>\n",
       "      <td>ppm</td>\n",
       "      <td>29.0</td>\n",
       "      <td>Livermore</td>\n",
       "      <td>17</td>\n",
       "      <td>100.0</td>\n",
       "      <td>47.0</td>\n",
       "      <td>41860.0</td>\n",
       "      <td>San Francisco-Oakland-Hayward, CA</td>\n",
       "      <td>1</td>\n",
       "      <td>Alameda</td>\n",
       "      <td>37.687526</td>\n",
       "      <td>-121.784217</td>\n",
       "    </tr>\n",
       "    <tr>\n",
       "      <th>1</th>\n",
       "      <td>01/02/2024</td>\n",
       "      <td>AQS</td>\n",
       "      <td>60010007</td>\n",
       "      <td>1</td>\n",
       "      <td>0.037</td>\n",
       "      <td>ppm</td>\n",
       "      <td>34.0</td>\n",
       "      <td>Livermore</td>\n",
       "      <td>17</td>\n",
       "      <td>100.0</td>\n",
       "      <td>47.0</td>\n",
       "      <td>41860.0</td>\n",
       "      <td>San Francisco-Oakland-Hayward, CA</td>\n",
       "      <td>1</td>\n",
       "      <td>Alameda</td>\n",
       "      <td>37.687526</td>\n",
       "      <td>-121.784217</td>\n",
       "    </tr>\n",
       "    <tr>\n",
       "      <th>2</th>\n",
       "      <td>/2024</td>\n",
       "      <td>AQS</td>\n",
       "      <td>60010007</td>\n",
       "      <td>1</td>\n",
       "      <td>NaN</td>\n",
       "      <td>ppm</td>\n",
       "      <td>30.0</td>\n",
       "      <td>Livermore</td>\n",
       "      <td>17</td>\n",
       "      <td>100.0</td>\n",
       "      <td>47.0</td>\n",
       "      <td>41860.0</td>\n",
       "      <td>San Francisco-Oakland-Hayward, CA</td>\n",
       "      <td>1</td>\n",
       "      <td>Alameda</td>\n",
       "      <td>37.687526</td>\n",
       "      <td>-121.784217</td>\n",
       "    </tr>\n",
       "    <tr>\n",
       "      <th>3</th>\n",
       "      <td>January 04/2024</td>\n",
       "      <td>AQS</td>\n",
       "      <td>60010007</td>\n",
       "      <td>1</td>\n",
       "      <td>0.026</td>\n",
       "      <td>ppm</td>\n",
       "      <td>24.0</td>\n",
       "      <td>Livermore</td>\n",
       "      <td>17</td>\n",
       "      <td>100.0</td>\n",
       "      <td>47.0</td>\n",
       "      <td>41860.0</td>\n",
       "      <td>San Francisco-Oakland-Hayward, CA</td>\n",
       "      <td>1</td>\n",
       "      <td>Alameda</td>\n",
       "      <td>37.687526</td>\n",
       "      <td>-121.784217</td>\n",
       "    </tr>\n",
       "    <tr>\n",
       "      <th>4</th>\n",
       "      <td>January 05/2024</td>\n",
       "      <td>AQS</td>\n",
       "      <td>60010007</td>\n",
       "      <td>1</td>\n",
       "      <td>0.027</td>\n",
       "      <td>ppm</td>\n",
       "      <td>25.0</td>\n",
       "      <td>Livermore</td>\n",
       "      <td>17</td>\n",
       "      <td>100.0</td>\n",
       "      <td>47.0</td>\n",
       "      <td>41860.0</td>\n",
       "      <td>San Francisco-Oakland-Hayward, CA</td>\n",
       "      <td>1</td>\n",
       "      <td>Alameda</td>\n",
       "      <td>37.687526</td>\n",
       "      <td>-121.784217</td>\n",
       "    </tr>\n",
       "  </tbody>\n",
       "</table>\n",
       "</div>"
      ],
      "text/plain": [
       "              Date Source   Site ID  ...   County  Site Latitude Site Longitude\n",
       "0            /2024    AQS  60010007  ...  Alameda      37.687526    -121.784217\n",
       "1       01/02/2024    AQS  60010007  ...  Alameda      37.687526    -121.784217\n",
       "2            /2024    AQS  60010007  ...  Alameda      37.687526    -121.784217\n",
       "3  January 04/2024    AQS  60010007  ...  Alameda      37.687526    -121.784217\n",
       "4  January 05/2024    AQS  60010007  ...  Alameda      37.687526    -121.784217\n",
       "\n",
       "[5 rows x 17 columns]"
      ]
     },
     "execution_count": 6,
     "metadata": {
      "application/com.datacamp.data-table.v2+json": {
       "status": "success"
      }
     },
     "output_type": "execute_result"
    }
   ],
   "source": [
    "import pandas as pd\n",
    "ozone = pd.read_csv('data/ozone.csv')\n",
    "ozone.head()"
   ]
  },
  {
   "cell_type": "markdown",
   "id": "0c812779-db6a-47b5-9927-fe9a9544d68d",
   "metadata": {},
   "source": [
    "## 💪 Competition challenge\n",
    "\n",
    "Create a report that covers the following:\n",
    "1. Your EDA and data cleaning process.\n",
    "2. How does daily maximum 8-hour ozone concentration vary over time and regions?\n",
    "3. Are there any areas that consistently show high ozone concentrations? Do different methods report different ozone levels?\n",
    "4. Consider if urban activity (weekend vs. weekday) has any affect on ozone levels across different days.\n",
    "5. Bonus: plot a geospatial heatmap showing any high ozone concentrations."
   ]
  },
  {
   "cell_type": "markdown",
   "id": "30373ef9-6fc3-434c-b9e0-18d482f0dd81",
   "metadata": {},
   "source": [
    "## 🧑‍⚖️ Judging criteria\n",
    "\n",
    "| CATEGORY | WEIGHTING | DETAILS                                                              |\n",
    "|:---------|:----------|:---------------------------------------------------------------------|\n",
    "| **Recommendations** | 35%       | <ul><li>Clarity of recommendations - how clear and well presented the recommendation is.</li><li>Quality of recommendations - are appropriate analytical techniques used & are the conclusions valid?</li><li>Number of relevant insights found for the target audience.</li></ul>       |\n",
    "| **Storytelling**  | 35%       | <ul><li>How well the data and insights are connected to the recommendation.</li><li>How the narrative and whole report connects together.</li><li>Balancing making the report in-depth enough but also concise.</li></ul> |\n",
    "| **Visualizations** | 20% | <ul><li>Appropriateness of visualization used.</li><li>Clarity of insight from visualization.</li></ul> |\n",
    "| **Votes** | 10% | <ul><li>Up voting - most upvoted entries get the most points.</li></ul> |"
   ]
  },
  {
   "cell_type": "markdown",
   "id": "49e09c46-c39d-488a-b025-cb25e5605c1c",
   "metadata": {},
   "source": [
    "## ✅ Checklist before publishing into the competition\n",
    "- Rename your workspace to make it descriptive of your work. N.B. you should leave the notebook name as notebook.ipynb.\n",
    "- **Remove redundant cells** like the judging criteria, so the workbook is focused on your story.\n",
    "- Make sure the workbook reads well and explains how you found your insights. \n",
    "- Try to include an **executive summary** of your recommendations at the beginning.\n",
    "- Check that all the cells run without error"
   ]
  },
  {
   "cell_type": "markdown",
   "id": "c236ec42-9d87-4526-8389-ffa9427ef796",
   "metadata": {},
   "source": [
    "## ⌛️ Time is ticking. Good luck!"
   ]
  }
 ],
 "metadata": {
  "colab": {
   "name": "Welcome to DataCamp Workspaces.ipynb",
   "provenance": []
  },
  "kernelspec": {
   "display_name": "Python 3 (ipykernel)",
   "language": "python",
   "name": "python3"
  },
  "language_info": {
   "codemirror_mode": {
    "name": "ipython",
    "version": 3
   },
   "file_extension": ".py",
   "mimetype": "text/x-python",
   "name": "python",
   "nbconvert_exporter": "python",
   "pygments_lexer": "ipython3",
   "version": "3.10.12"
  }
 },
 "nbformat": 4,
 "nbformat_minor": 5
}
