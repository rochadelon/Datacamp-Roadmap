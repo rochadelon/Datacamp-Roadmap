{
 "cells": [
  {
   "cell_type": "markdown",
   "id": "937acf3c-c077-4ca6-8d90-8f6dd4d13c54",
   "metadata": {},
   "source": [
    "<center><img src=\"redpopcorn.jpg\"></center>"
   ]
  },
  {
   "cell_type": "markdown",
   "id": "5962b2cd-17bb-4ec9-b2d5-68537ca26860",
   "metadata": {},
   "source": [
    "**Netflix**! What started in 1997 as a DVD rental service has since exploded into one of the largest entertainment and media companies.\n",
    "\n",
    "Given the large number of movies and series available on the platform, it is a perfect opportunity to flex your exploratory data analysis skills and dive into the entertainment industry.\n",
    "\n",
    "You work for a production company that specializes in nostalgic styles. You want to do some research on movies released in the 1990's. You'll delve into Netflix data and perform exploratory data analysis to better understand this awesome movie decade!\n",
    "\n",
    "You have been supplied with the dataset `netflix_data.csv`, along with the following table detailing the column names and descriptions. Feel free to experiment further after submitting!\n",
    "\n",
    "## The data\n",
    "### **netflix_data.csv**\n",
    "| Column | Description |\n",
    "|--------|-------------|\n",
    "| `show_id` | The ID of the show |\n",
    "| `type` | Type of show |\n",
    "| `title` | Title of the show |\n",
    "| `director` | Director of the show |\n",
    "| `cast` | Cast of the show |\n",
    "| `country` | Country of origin |\n",
    "| `date_added` | Date added to Netflix |\n",
    "| `release_year` | Year of Netflix release |\n",
    "| `duration` | Duration of the show in minutes |\n",
    "| `description` | Description of the show |\n",
    "| `genre` | Show genre |"
   ]
  },
  {
   "cell_type": "code",
   "execution_count": 1,
   "id": "320a3abc-8a36-4b2b-baaf-473325363a4d",
   "metadata": {
    "executionCancelledAt": null,
    "executionTime": 35,
    "lastExecutedAt": 1752523636606,
    "lastExecutedByKernel": "c5d47289-d87d-433f-a684-e69e7c676f9f",
    "lastScheduledRunId": null,
    "lastSuccessfullyExecutedCode": "# Importing pandas and matplotlib\nimport pandas as pd\nimport matplotlib.pyplot as plt\n\n# Read in the Netflix CSV as a DataFrame\nnetflix_df = pd.read_csv(\"netflix_data.csv\")"
   },
   "outputs": [],
   "source": [
    "# Importing pandas and matplotlib\n",
    "import pandas as pd\n",
    "import matplotlib.pyplot as plt\n",
    "\n",
    "# Read in the Netflix CSV as a DataFrame\n",
    "netflix_df = pd.read_csv(\"netflix_data.csv\")"
   ]
  },
  {
   "cell_type": "code",
   "execution_count": 3,
   "id": "45ac5be3-5e6a-47b0-98b0-b7d5624dda06",
   "metadata": {
    "executionCancelledAt": null,
    "executionTime": 61,
    "lastExecutedAt": 1752523636667,
    "lastExecutedByKernel": "c5d47289-d87d-433f-a684-e69e7c676f9f",
    "lastScheduledRunId": null,
    "lastSuccessfullyExecutedCode": "netflix_df.head()",
    "outputsMetadata": {
     "0": {
      "height": 249,
      "tableState": {
       "customFilter": {
        "const": {
         "type": "boolean",
         "valid": true,
         "value": true
        },
        "id": "2de576cf-6a8f-4f65-acd9-b7ec41432dfc",
        "nodeType": "const"
       }
      },
      "type": "dataFrame"
     }
    }
   },
   "outputs": [
    {
     "data": {
      "application/vnd.microsoft.datawrangler.viewer.v0+json": {
       "columns": [
        {
         "name": "index",
         "rawType": "int64",
         "type": "integer"
        },
        {
         "name": "show_id",
         "rawType": "object",
         "type": "string"
        },
        {
         "name": "type",
         "rawType": "object",
         "type": "string"
        },
        {
         "name": "title",
         "rawType": "object",
         "type": "string"
        },
        {
         "name": "director",
         "rawType": "object",
         "type": "string"
        },
        {
         "name": "cast",
         "rawType": "object",
         "type": "string"
        },
        {
         "name": "country",
         "rawType": "object",
         "type": "string"
        },
        {
         "name": "date_added",
         "rawType": "object",
         "type": "string"
        },
        {
         "name": "release_year",
         "rawType": "int64",
         "type": "integer"
        },
        {
         "name": "duration",
         "rawType": "int64",
         "type": "integer"
        },
        {
         "name": "description",
         "rawType": "object",
         "type": "string"
        },
        {
         "name": "genre",
         "rawType": "object",
         "type": "string"
        }
       ],
       "ref": "729b90dc-d066-4e29-9e94-bb6f1f9cbe2f",
       "rows": [
        [
         "0",
         "s2",
         "Movie",
         "7:19",
         "Jorge Michel Grau",
         "Demián Bichir, Héctor Bonilla, Oscar Serrano, Azalia Ortiz, Octavio Michel, Carmen Beato",
         "Mexico",
         "December 23, 2016",
         "2016",
         "93",
         "After a devastating earthquake hits Mexico City, trapped survivors from all walks of life wait to be rescued while trying desperately to stay alive.",
         "Dramas"
        ],
        [
         "1",
         "s3",
         "Movie",
         "23:59",
         "Gilbert Chan",
         "Tedd Chan, Stella Chung, Henley Hii, Lawrence Koh, Tommy Kuan, Josh Lai, Mark Lee, Susan Leong, Benjamin Lim",
         "Singapore",
         "December 20, 2018",
         "2011",
         "78",
         "When an army recruit is found dead, his fellow soldiers are forced to confront a terrifying secret that's haunting their jungle island training camp.",
         "Horror Movies"
        ],
        [
         "2",
         "s4",
         "Movie",
         "9",
         "Shane Acker",
         "Elijah Wood, John C. Reilly, Jennifer Connelly, Christopher Plummer, Crispin Glover, Martin Landau, Fred Tatasciore, Alan Oppenheimer, Tom Kane",
         "United States",
         "November 16, 2017",
         "2009",
         "80",
         "In a postapocalyptic world, rag-doll robots hide in fear from dangerous machines out to exterminate them, until a brave newcomer joins the group.",
         "Action"
        ],
        [
         "3",
         "s5",
         "Movie",
         "21",
         "Robert Luketic",
         "Jim Sturgess, Kevin Spacey, Kate Bosworth, Aaron Yoo, Liza Lapira, Jacob Pitts, Laurence Fishburne, Jack McGee, Josh Gad, Sam Golzari, Helen Carey, Jack Gilpin",
         "United States",
         "January 1, 2020",
         "2008",
         "123",
         "A brilliant group of students become card-counting experts with the intent of swindling millions out of Las Vegas casinos by playing blackjack.",
         "Dramas"
        ],
        [
         "4",
         "s6",
         "TV Show",
         "46",
         "Serdar Akar",
         "Erdal Beşikçioğlu, Yasemin Allen, Melis Birkan, Saygın Soysal, Berkan Şal, Metin Belgin, Ayça Eren, Selin Uludoğan, Özay Fecht, Suna Yıldızoğlu",
         "Turkey",
         "July 1, 2017",
         "2016",
         "1",
         "A genetics professor experiments with a treatment for his comatose sister that blends medical and shamanic cures, but unlocks a shocking side effect.",
         "International TV"
        ]
       ],
       "shape": {
        "columns": 11,
        "rows": 5
       }
      },
      "text/html": [
       "<div>\n",
       "<style scoped>\n",
       "    .dataframe tbody tr th:only-of-type {\n",
       "        vertical-align: middle;\n",
       "    }\n",
       "\n",
       "    .dataframe tbody tr th {\n",
       "        vertical-align: top;\n",
       "    }\n",
       "\n",
       "    .dataframe thead th {\n",
       "        text-align: right;\n",
       "    }\n",
       "</style>\n",
       "<table border=\"1\" class=\"dataframe\">\n",
       "  <thead>\n",
       "    <tr style=\"text-align: right;\">\n",
       "      <th></th>\n",
       "      <th>show_id</th>\n",
       "      <th>type</th>\n",
       "      <th>title</th>\n",
       "      <th>director</th>\n",
       "      <th>cast</th>\n",
       "      <th>country</th>\n",
       "      <th>date_added</th>\n",
       "      <th>release_year</th>\n",
       "      <th>duration</th>\n",
       "      <th>description</th>\n",
       "      <th>genre</th>\n",
       "    </tr>\n",
       "  </thead>\n",
       "  <tbody>\n",
       "    <tr>\n",
       "      <th>0</th>\n",
       "      <td>s2</td>\n",
       "      <td>Movie</td>\n",
       "      <td>7:19</td>\n",
       "      <td>Jorge Michel Grau</td>\n",
       "      <td>Demián Bichir, Héctor Bonilla, Oscar Serrano, ...</td>\n",
       "      <td>Mexico</td>\n",
       "      <td>December 23, 2016</td>\n",
       "      <td>2016</td>\n",
       "      <td>93</td>\n",
       "      <td>After a devastating earthquake hits Mexico Cit...</td>\n",
       "      <td>Dramas</td>\n",
       "    </tr>\n",
       "    <tr>\n",
       "      <th>1</th>\n",
       "      <td>s3</td>\n",
       "      <td>Movie</td>\n",
       "      <td>23:59</td>\n",
       "      <td>Gilbert Chan</td>\n",
       "      <td>Tedd Chan, Stella Chung, Henley Hii, Lawrence ...</td>\n",
       "      <td>Singapore</td>\n",
       "      <td>December 20, 2018</td>\n",
       "      <td>2011</td>\n",
       "      <td>78</td>\n",
       "      <td>When an army recruit is found dead, his fellow...</td>\n",
       "      <td>Horror Movies</td>\n",
       "    </tr>\n",
       "    <tr>\n",
       "      <th>2</th>\n",
       "      <td>s4</td>\n",
       "      <td>Movie</td>\n",
       "      <td>9</td>\n",
       "      <td>Shane Acker</td>\n",
       "      <td>Elijah Wood, John C. Reilly, Jennifer Connelly...</td>\n",
       "      <td>United States</td>\n",
       "      <td>November 16, 2017</td>\n",
       "      <td>2009</td>\n",
       "      <td>80</td>\n",
       "      <td>In a postapocalyptic world, rag-doll robots hi...</td>\n",
       "      <td>Action</td>\n",
       "    </tr>\n",
       "    <tr>\n",
       "      <th>3</th>\n",
       "      <td>s5</td>\n",
       "      <td>Movie</td>\n",
       "      <td>21</td>\n",
       "      <td>Robert Luketic</td>\n",
       "      <td>Jim Sturgess, Kevin Spacey, Kate Bosworth, Aar...</td>\n",
       "      <td>United States</td>\n",
       "      <td>January 1, 2020</td>\n",
       "      <td>2008</td>\n",
       "      <td>123</td>\n",
       "      <td>A brilliant group of students become card-coun...</td>\n",
       "      <td>Dramas</td>\n",
       "    </tr>\n",
       "    <tr>\n",
       "      <th>4</th>\n",
       "      <td>s6</td>\n",
       "      <td>TV Show</td>\n",
       "      <td>46</td>\n",
       "      <td>Serdar Akar</td>\n",
       "      <td>Erdal Beşikçioğlu, Yasemin Allen, Melis Birkan...</td>\n",
       "      <td>Turkey</td>\n",
       "      <td>July 1, 2017</td>\n",
       "      <td>2016</td>\n",
       "      <td>1</td>\n",
       "      <td>A genetics professor experiments with a treatm...</td>\n",
       "      <td>International TV</td>\n",
       "    </tr>\n",
       "  </tbody>\n",
       "</table>\n",
       "</div>"
      ],
      "text/plain": [
       "  show_id     type  title           director  \\\n",
       "0      s2    Movie   7:19  Jorge Michel Grau   \n",
       "1      s3    Movie  23:59       Gilbert Chan   \n",
       "2      s4    Movie      9        Shane Acker   \n",
       "3      s5    Movie     21     Robert Luketic   \n",
       "4      s6  TV Show     46        Serdar Akar   \n",
       "\n",
       "                                                cast        country  \\\n",
       "0  Demián Bichir, Héctor Bonilla, Oscar Serrano, ...         Mexico   \n",
       "1  Tedd Chan, Stella Chung, Henley Hii, Lawrence ...      Singapore   \n",
       "2  Elijah Wood, John C. Reilly, Jennifer Connelly...  United States   \n",
       "3  Jim Sturgess, Kevin Spacey, Kate Bosworth, Aar...  United States   \n",
       "4  Erdal Beşikçioğlu, Yasemin Allen, Melis Birkan...         Turkey   \n",
       "\n",
       "          date_added  release_year  duration  \\\n",
       "0  December 23, 2016          2016        93   \n",
       "1  December 20, 2018          2011        78   \n",
       "2  November 16, 2017          2009        80   \n",
       "3    January 1, 2020          2008       123   \n",
       "4       July 1, 2017          2016         1   \n",
       "\n",
       "                                         description             genre  \n",
       "0  After a devastating earthquake hits Mexico Cit...            Dramas  \n",
       "1  When an army recruit is found dead, his fellow...     Horror Movies  \n",
       "2  In a postapocalyptic world, rag-doll robots hi...            Action  \n",
       "3  A brilliant group of students become card-coun...            Dramas  \n",
       "4  A genetics professor experiments with a treatm...  International TV  "
      ]
     },
     "execution_count": 3,
     "metadata": {},
     "output_type": "execute_result"
    }
   ],
   "source": [
    "netflix_df.head()"
   ]
  },
  {
   "cell_type": "markdown",
   "id": "76064bee-1e55-4416-b46e-5de3446f79b6",
   "metadata": {},
   "source": [
    "## Filtrar somente os classificados como filmes"
   ]
  },
  {
   "cell_type": "code",
   "execution_count": 4,
   "id": "aa83b181-ebbe-4a6d-92b6-f1e2a61affa2",
   "metadata": {
    "executionCancelledAt": null,
    "executionTime": 64,
    "lastExecutedAt": 1752523636731,
    "lastExecutedByKernel": "c5d47289-d87d-433f-a684-e69e7c676f9f",
    "lastScheduledRunId": null,
    "lastSuccessfullyExecutedCode": "netflix_df_movies = netflix_df[netflix_df[\"type\"] == \"Movie\"]\nnetflix_df_movies.head()",
    "outputsMetadata": {
     "0": {
      "height": 249,
      "tableState": {
       "customFilter": {
        "const": {
         "type": "boolean",
         "valid": true,
         "value": true
        },
        "id": "2de576cf-6a8f-4f65-acd9-b7ec41432dfc",
        "nodeType": "const"
       }
      },
      "type": "dataFrame"
     }
    }
   },
   "outputs": [
    {
     "data": {
      "application/vnd.microsoft.datawrangler.viewer.v0+json": {
       "columns": [
        {
         "name": "index",
         "rawType": "int64",
         "type": "integer"
        },
        {
         "name": "show_id",
         "rawType": "object",
         "type": "string"
        },
        {
         "name": "type",
         "rawType": "object",
         "type": "string"
        },
        {
         "name": "title",
         "rawType": "object",
         "type": "string"
        },
        {
         "name": "director",
         "rawType": "object",
         "type": "string"
        },
        {
         "name": "cast",
         "rawType": "object",
         "type": "string"
        },
        {
         "name": "country",
         "rawType": "object",
         "type": "string"
        },
        {
         "name": "date_added",
         "rawType": "object",
         "type": "string"
        },
        {
         "name": "release_year",
         "rawType": "int64",
         "type": "integer"
        },
        {
         "name": "duration",
         "rawType": "int64",
         "type": "integer"
        },
        {
         "name": "description",
         "rawType": "object",
         "type": "string"
        },
        {
         "name": "genre",
         "rawType": "object",
         "type": "string"
        }
       ],
       "ref": "9560032f-36fb-42ad-a052-6cb0a595dc53",
       "rows": [
        [
         "0",
         "s2",
         "Movie",
         "7:19",
         "Jorge Michel Grau",
         "Demián Bichir, Héctor Bonilla, Oscar Serrano, Azalia Ortiz, Octavio Michel, Carmen Beato",
         "Mexico",
         "December 23, 2016",
         "2016",
         "93",
         "After a devastating earthquake hits Mexico City, trapped survivors from all walks of life wait to be rescued while trying desperately to stay alive.",
         "Dramas"
        ],
        [
         "1",
         "s3",
         "Movie",
         "23:59",
         "Gilbert Chan",
         "Tedd Chan, Stella Chung, Henley Hii, Lawrence Koh, Tommy Kuan, Josh Lai, Mark Lee, Susan Leong, Benjamin Lim",
         "Singapore",
         "December 20, 2018",
         "2011",
         "78",
         "When an army recruit is found dead, his fellow soldiers are forced to confront a terrifying secret that's haunting their jungle island training camp.",
         "Horror Movies"
        ],
        [
         "2",
         "s4",
         "Movie",
         "9",
         "Shane Acker",
         "Elijah Wood, John C. Reilly, Jennifer Connelly, Christopher Plummer, Crispin Glover, Martin Landau, Fred Tatasciore, Alan Oppenheimer, Tom Kane",
         "United States",
         "November 16, 2017",
         "2009",
         "80",
         "In a postapocalyptic world, rag-doll robots hide in fear from dangerous machines out to exterminate them, until a brave newcomer joins the group.",
         "Action"
        ],
        [
         "3",
         "s5",
         "Movie",
         "21",
         "Robert Luketic",
         "Jim Sturgess, Kevin Spacey, Kate Bosworth, Aaron Yoo, Liza Lapira, Jacob Pitts, Laurence Fishburne, Jack McGee, Josh Gad, Sam Golzari, Helen Carey, Jack Gilpin",
         "United States",
         "January 1, 2020",
         "2008",
         "123",
         "A brilliant group of students become card-counting experts with the intent of swindling millions out of Las Vegas casinos by playing blackjack.",
         "Dramas"
        ],
        [
         "5",
         "s7",
         "Movie",
         "122",
         "Yasir Al Yasiri",
         "Amina Khalil, Ahmed Dawood, Tarek Lotfy, Ahmed El Fishawy, Mahmoud Hijazi, Jihane Khalil, Asmaa Galal, Tara Emad",
         "Egypt",
         "June 1, 2020",
         "2019",
         "95",
         "After an awful accident, a couple admitted to a grisly hospital are separated and must find each other to escape — before death finds them.",
         "Horror Movies"
        ]
       ],
       "shape": {
        "columns": 11,
        "rows": 5
       }
      },
      "text/html": [
       "<div>\n",
       "<style scoped>\n",
       "    .dataframe tbody tr th:only-of-type {\n",
       "        vertical-align: middle;\n",
       "    }\n",
       "\n",
       "    .dataframe tbody tr th {\n",
       "        vertical-align: top;\n",
       "    }\n",
       "\n",
       "    .dataframe thead th {\n",
       "        text-align: right;\n",
       "    }\n",
       "</style>\n",
       "<table border=\"1\" class=\"dataframe\">\n",
       "  <thead>\n",
       "    <tr style=\"text-align: right;\">\n",
       "      <th></th>\n",
       "      <th>show_id</th>\n",
       "      <th>type</th>\n",
       "      <th>title</th>\n",
       "      <th>director</th>\n",
       "      <th>cast</th>\n",
       "      <th>country</th>\n",
       "      <th>date_added</th>\n",
       "      <th>release_year</th>\n",
       "      <th>duration</th>\n",
       "      <th>description</th>\n",
       "      <th>genre</th>\n",
       "    </tr>\n",
       "  </thead>\n",
       "  <tbody>\n",
       "    <tr>\n",
       "      <th>0</th>\n",
       "      <td>s2</td>\n",
       "      <td>Movie</td>\n",
       "      <td>7:19</td>\n",
       "      <td>Jorge Michel Grau</td>\n",
       "      <td>Demián Bichir, Héctor Bonilla, Oscar Serrano, ...</td>\n",
       "      <td>Mexico</td>\n",
       "      <td>December 23, 2016</td>\n",
       "      <td>2016</td>\n",
       "      <td>93</td>\n",
       "      <td>After a devastating earthquake hits Mexico Cit...</td>\n",
       "      <td>Dramas</td>\n",
       "    </tr>\n",
       "    <tr>\n",
       "      <th>1</th>\n",
       "      <td>s3</td>\n",
       "      <td>Movie</td>\n",
       "      <td>23:59</td>\n",
       "      <td>Gilbert Chan</td>\n",
       "      <td>Tedd Chan, Stella Chung, Henley Hii, Lawrence ...</td>\n",
       "      <td>Singapore</td>\n",
       "      <td>December 20, 2018</td>\n",
       "      <td>2011</td>\n",
       "      <td>78</td>\n",
       "      <td>When an army recruit is found dead, his fellow...</td>\n",
       "      <td>Horror Movies</td>\n",
       "    </tr>\n",
       "    <tr>\n",
       "      <th>2</th>\n",
       "      <td>s4</td>\n",
       "      <td>Movie</td>\n",
       "      <td>9</td>\n",
       "      <td>Shane Acker</td>\n",
       "      <td>Elijah Wood, John C. Reilly, Jennifer Connelly...</td>\n",
       "      <td>United States</td>\n",
       "      <td>November 16, 2017</td>\n",
       "      <td>2009</td>\n",
       "      <td>80</td>\n",
       "      <td>In a postapocalyptic world, rag-doll robots hi...</td>\n",
       "      <td>Action</td>\n",
       "    </tr>\n",
       "    <tr>\n",
       "      <th>3</th>\n",
       "      <td>s5</td>\n",
       "      <td>Movie</td>\n",
       "      <td>21</td>\n",
       "      <td>Robert Luketic</td>\n",
       "      <td>Jim Sturgess, Kevin Spacey, Kate Bosworth, Aar...</td>\n",
       "      <td>United States</td>\n",
       "      <td>January 1, 2020</td>\n",
       "      <td>2008</td>\n",
       "      <td>123</td>\n",
       "      <td>A brilliant group of students become card-coun...</td>\n",
       "      <td>Dramas</td>\n",
       "    </tr>\n",
       "    <tr>\n",
       "      <th>5</th>\n",
       "      <td>s7</td>\n",
       "      <td>Movie</td>\n",
       "      <td>122</td>\n",
       "      <td>Yasir Al Yasiri</td>\n",
       "      <td>Amina Khalil, Ahmed Dawood, Tarek Lotfy, Ahmed...</td>\n",
       "      <td>Egypt</td>\n",
       "      <td>June 1, 2020</td>\n",
       "      <td>2019</td>\n",
       "      <td>95</td>\n",
       "      <td>After an awful accident, a couple admitted to ...</td>\n",
       "      <td>Horror Movies</td>\n",
       "    </tr>\n",
       "  </tbody>\n",
       "</table>\n",
       "</div>"
      ],
      "text/plain": [
       "  show_id   type  title           director  \\\n",
       "0      s2  Movie   7:19  Jorge Michel Grau   \n",
       "1      s3  Movie  23:59       Gilbert Chan   \n",
       "2      s4  Movie      9        Shane Acker   \n",
       "3      s5  Movie     21     Robert Luketic   \n",
       "5      s7  Movie    122    Yasir Al Yasiri   \n",
       "\n",
       "                                                cast        country  \\\n",
       "0  Demián Bichir, Héctor Bonilla, Oscar Serrano, ...         Mexico   \n",
       "1  Tedd Chan, Stella Chung, Henley Hii, Lawrence ...      Singapore   \n",
       "2  Elijah Wood, John C. Reilly, Jennifer Connelly...  United States   \n",
       "3  Jim Sturgess, Kevin Spacey, Kate Bosworth, Aar...  United States   \n",
       "5  Amina Khalil, Ahmed Dawood, Tarek Lotfy, Ahmed...          Egypt   \n",
       "\n",
       "          date_added  release_year  duration  \\\n",
       "0  December 23, 2016          2016        93   \n",
       "1  December 20, 2018          2011        78   \n",
       "2  November 16, 2017          2009        80   \n",
       "3    January 1, 2020          2008       123   \n",
       "5       June 1, 2020          2019        95   \n",
       "\n",
       "                                         description          genre  \n",
       "0  After a devastating earthquake hits Mexico Cit...         Dramas  \n",
       "1  When an army recruit is found dead, his fellow...  Horror Movies  \n",
       "2  In a postapocalyptic world, rag-doll robots hi...         Action  \n",
       "3  A brilliant group of students become card-coun...         Dramas  \n",
       "5  After an awful accident, a couple admitted to ...  Horror Movies  "
      ]
     },
     "execution_count": 4,
     "metadata": {},
     "output_type": "execute_result"
    }
   ],
   "source": [
    "netflix_df_movies = netflix_df[netflix_df[\"type\"] == \"Movie\"]\n",
    "netflix_df_movies.head()"
   ]
  },
  {
   "cell_type": "markdown",
   "id": "16fbad63-0ee7-4880-9b6d-f7a6fe38babc",
   "metadata": {},
   "source": [
    "## Filtrar somente os filmes lançados na década de 90"
   ]
  },
  {
   "cell_type": "code",
   "execution_count": 5,
   "id": "25a39d09-52ce-45b3-811a-ab8ef3fd6430",
   "metadata": {
    "executionCancelledAt": null,
    "executionTime": 48,
    "lastExecutedAt": 1752523636779,
    "lastExecutedByKernel": "c5d47289-d87d-433f-a684-e69e7c676f9f",
    "lastScheduledRunId": null,
    "lastSuccessfullyExecutedCode": "netflix_df_movies_90s = netflix_df_movies[\n    (netflix_df_movies[\"release_year\"] >= 1990) & \n    (netflix_df_movies[\"release_year\"] <= 1999)\n]\nnetflix_df_movies_90s.head()",
    "outputsMetadata": {
     "0": {
      "height": 249,
      "tableState": {
       "customFilter": {
        "const": {
         "type": "boolean",
         "valid": true,
         "value": true
        },
        "id": "2de576cf-6a8f-4f65-acd9-b7ec41432dfc",
        "nodeType": "const"
       }
      },
      "type": "dataFrame"
     }
    }
   },
   "outputs": [
    {
     "data": {
      "application/vnd.microsoft.datawrangler.viewer.v0+json": {
       "columns": [
        {
         "name": "index",
         "rawType": "int64",
         "type": "integer"
        },
        {
         "name": "show_id",
         "rawType": "object",
         "type": "string"
        },
        {
         "name": "type",
         "rawType": "object",
         "type": "string"
        },
        {
         "name": "title",
         "rawType": "object",
         "type": "string"
        },
        {
         "name": "director",
         "rawType": "object",
         "type": "string"
        },
        {
         "name": "cast",
         "rawType": "object",
         "type": "string"
        },
        {
         "name": "country",
         "rawType": "object",
         "type": "string"
        },
        {
         "name": "date_added",
         "rawType": "object",
         "type": "string"
        },
        {
         "name": "release_year",
         "rawType": "int64",
         "type": "integer"
        },
        {
         "name": "duration",
         "rawType": "int64",
         "type": "integer"
        },
        {
         "name": "description",
         "rawType": "object",
         "type": "string"
        },
        {
         "name": "genre",
         "rawType": "object",
         "type": "string"
        }
       ],
       "ref": "3391cbe9-8036-468f-b1b7-4bf1c53f5080",
       "rows": [
        [
         "6",
         "s8",
         "Movie",
         "187",
         "Kevin Reynolds",
         "Samuel L. Jackson, John Heard, Kelly Rowan, Clifton Collins Jr., Tony Plana",
         "United States",
         "November 1, 2019",
         "1997",
         "119",
         "After one of his high school students attacks him, dedicated teacher Trevor Garfield grows weary of the gang warfare in the New York City school system and moves to California to teach there, thinking it must be a less hostile environment.",
         "Dramas"
        ],
        [
         "118",
         "s167",
         "Movie",
         "A Dangerous Woman",
         "Stephen Gyllenhaal",
         "Debra Winger, Barbara Hershey, Gabriel Byrne, Laurie Metcalf, John Terry, Maggie Gyllenhaal, Jake Gyllenhaal, Chloe Webb, David Strathairn",
         "United States",
         "April 1, 2018",
         "1993",
         "101",
         "At the center of this engrossing melodrama is a Golden Globe-nominated turn by Debra Winger, who plays a sheltered, slow-witted woman living with her widowed Aunt Frances while working at a dry cleaners.",
         "Dramas"
        ],
        [
         "145",
         "s211",
         "Movie",
         "A Night at the Roxbury",
         "John Fortenberry",
         "Will Ferrell, Chris Kattan, Dan Hedaya, Molly Shannon, Richard Grieco, Loni Anderson, Elisa Donovan, Gigi Rice, Lochlyn Munro, Dwayne Hickman",
         "United States",
         "December 1, 2019",
         "1998",
         "82",
         "After a run-in with Richard Grieco, dimwits Doug and Steve gain entry to a swanky nightclub in this comedy based on a \"Saturday Night Live\" sketch.",
         "Comedies"
        ],
        [
         "167",
         "s239",
         "Movie",
         "A Thin Line Between Love & Hate",
         "Martin Lawrence",
         "Martin Lawrence, Lynn Whitfield, Regina King, Bobby Brown, Della Reese, Daryl Mitchell, Roger Mosley, Malinda Williams, Roger E. Mosley, Simbi Khali, Tangie Ambrose, Wendy Raquel Robinson, Stacii Jae Johnson, Faizon Love, Miguel A. Núñez Jr., Tracy Morgan",
         "United States",
         "December 1, 2020",
         "1996",
         "108",
         "When a philandering club promoter sets out to woo a rich, glamorous woman, he has no clue just how much mayhem he's about to unleash on his life.",
         "Comedies"
        ],
        [
         "194",
         "s274",
         "Movie",
         "Aashik Awara",
         "Umesh Mehra",
         "Saif Ali Khan, Mamta Kulkarni, Mohnish Bahl, Sharmila Tagore, Saeed Jaffrey, Kader Khan",
         "India",
         "June 1, 2017",
         "1993",
         "154",
         "Raised by a kindly thief, orphaned Jimmy goes on the run from goons and falls in love with Jyoti, whose father indirectly caused his parents' deaths.",
         "Dramas"
        ]
       ],
       "shape": {
        "columns": 11,
        "rows": 5
       }
      },
      "text/html": [
       "<div>\n",
       "<style scoped>\n",
       "    .dataframe tbody tr th:only-of-type {\n",
       "        vertical-align: middle;\n",
       "    }\n",
       "\n",
       "    .dataframe tbody tr th {\n",
       "        vertical-align: top;\n",
       "    }\n",
       "\n",
       "    .dataframe thead th {\n",
       "        text-align: right;\n",
       "    }\n",
       "</style>\n",
       "<table border=\"1\" class=\"dataframe\">\n",
       "  <thead>\n",
       "    <tr style=\"text-align: right;\">\n",
       "      <th></th>\n",
       "      <th>show_id</th>\n",
       "      <th>type</th>\n",
       "      <th>title</th>\n",
       "      <th>director</th>\n",
       "      <th>cast</th>\n",
       "      <th>country</th>\n",
       "      <th>date_added</th>\n",
       "      <th>release_year</th>\n",
       "      <th>duration</th>\n",
       "      <th>description</th>\n",
       "      <th>genre</th>\n",
       "    </tr>\n",
       "  </thead>\n",
       "  <tbody>\n",
       "    <tr>\n",
       "      <th>6</th>\n",
       "      <td>s8</td>\n",
       "      <td>Movie</td>\n",
       "      <td>187</td>\n",
       "      <td>Kevin Reynolds</td>\n",
       "      <td>Samuel L. Jackson, John Heard, Kelly Rowan, Cl...</td>\n",
       "      <td>United States</td>\n",
       "      <td>November 1, 2019</td>\n",
       "      <td>1997</td>\n",
       "      <td>119</td>\n",
       "      <td>After one of his high school students attacks ...</td>\n",
       "      <td>Dramas</td>\n",
       "    </tr>\n",
       "    <tr>\n",
       "      <th>118</th>\n",
       "      <td>s167</td>\n",
       "      <td>Movie</td>\n",
       "      <td>A Dangerous Woman</td>\n",
       "      <td>Stephen Gyllenhaal</td>\n",
       "      <td>Debra Winger, Barbara Hershey, Gabriel Byrne, ...</td>\n",
       "      <td>United States</td>\n",
       "      <td>April 1, 2018</td>\n",
       "      <td>1993</td>\n",
       "      <td>101</td>\n",
       "      <td>At the center of this engrossing melodrama is ...</td>\n",
       "      <td>Dramas</td>\n",
       "    </tr>\n",
       "    <tr>\n",
       "      <th>145</th>\n",
       "      <td>s211</td>\n",
       "      <td>Movie</td>\n",
       "      <td>A Night at the Roxbury</td>\n",
       "      <td>John Fortenberry</td>\n",
       "      <td>Will Ferrell, Chris Kattan, Dan Hedaya, Molly ...</td>\n",
       "      <td>United States</td>\n",
       "      <td>December 1, 2019</td>\n",
       "      <td>1998</td>\n",
       "      <td>82</td>\n",
       "      <td>After a run-in with Richard Grieco, dimwits Do...</td>\n",
       "      <td>Comedies</td>\n",
       "    </tr>\n",
       "    <tr>\n",
       "      <th>167</th>\n",
       "      <td>s239</td>\n",
       "      <td>Movie</td>\n",
       "      <td>A Thin Line Between Love &amp; Hate</td>\n",
       "      <td>Martin Lawrence</td>\n",
       "      <td>Martin Lawrence, Lynn Whitfield, Regina King, ...</td>\n",
       "      <td>United States</td>\n",
       "      <td>December 1, 2020</td>\n",
       "      <td>1996</td>\n",
       "      <td>108</td>\n",
       "      <td>When a philandering club promoter sets out to ...</td>\n",
       "      <td>Comedies</td>\n",
       "    </tr>\n",
       "    <tr>\n",
       "      <th>194</th>\n",
       "      <td>s274</td>\n",
       "      <td>Movie</td>\n",
       "      <td>Aashik Awara</td>\n",
       "      <td>Umesh Mehra</td>\n",
       "      <td>Saif Ali Khan, Mamta Kulkarni, Mohnish Bahl, S...</td>\n",
       "      <td>India</td>\n",
       "      <td>June 1, 2017</td>\n",
       "      <td>1993</td>\n",
       "      <td>154</td>\n",
       "      <td>Raised by a kindly thief, orphaned Jimmy goes ...</td>\n",
       "      <td>Dramas</td>\n",
       "    </tr>\n",
       "  </tbody>\n",
       "</table>\n",
       "</div>"
      ],
      "text/plain": [
       "    show_id   type                            title            director  \\\n",
       "6        s8  Movie                              187      Kevin Reynolds   \n",
       "118    s167  Movie                A Dangerous Woman  Stephen Gyllenhaal   \n",
       "145    s211  Movie           A Night at the Roxbury    John Fortenberry   \n",
       "167    s239  Movie  A Thin Line Between Love & Hate     Martin Lawrence   \n",
       "194    s274  Movie                     Aashik Awara         Umesh Mehra   \n",
       "\n",
       "                                                  cast        country  \\\n",
       "6    Samuel L. Jackson, John Heard, Kelly Rowan, Cl...  United States   \n",
       "118  Debra Winger, Barbara Hershey, Gabriel Byrne, ...  United States   \n",
       "145  Will Ferrell, Chris Kattan, Dan Hedaya, Molly ...  United States   \n",
       "167  Martin Lawrence, Lynn Whitfield, Regina King, ...  United States   \n",
       "194  Saif Ali Khan, Mamta Kulkarni, Mohnish Bahl, S...          India   \n",
       "\n",
       "           date_added  release_year  duration  \\\n",
       "6    November 1, 2019          1997       119   \n",
       "118     April 1, 2018          1993       101   \n",
       "145  December 1, 2019          1998        82   \n",
       "167  December 1, 2020          1996       108   \n",
       "194      June 1, 2017          1993       154   \n",
       "\n",
       "                                           description     genre  \n",
       "6    After one of his high school students attacks ...    Dramas  \n",
       "118  At the center of this engrossing melodrama is ...    Dramas  \n",
       "145  After a run-in with Richard Grieco, dimwits Do...  Comedies  \n",
       "167  When a philandering club promoter sets out to ...  Comedies  \n",
       "194  Raised by a kindly thief, orphaned Jimmy goes ...    Dramas  "
      ]
     },
     "execution_count": 5,
     "metadata": {},
     "output_type": "execute_result"
    }
   ],
   "source": [
    "netflix_df_movies_90s = netflix_df_movies[\n",
    "    (netflix_df_movies[\"release_year\"] >= 1990) & \n",
    "    (netflix_df_movies[\"release_year\"] <= 1999)\n",
    "]\n",
    "netflix_df_movies_90s.head()"
   ]
  },
  {
   "cell_type": "markdown",
   "id": "61efdcc7-e3a2-4d2d-abce-4197a17a45c7",
   "metadata": {},
   "source": [
    "## Encontrando a duração mais comum  "
   ]
  },
  {
   "cell_type": "code",
   "execution_count": 6,
   "id": "72658473-114f-49eb-bd4e-cc03c710834a",
   "metadata": {
    "executionCancelledAt": null,
    "executionTime": 276,
    "lastExecutedAt": 1752523637055,
    "lastExecutedByKernel": "c5d47289-d87d-433f-a684-e69e7c676f9f",
    "lastScheduledRunId": null,
    "lastSuccessfullyExecutedCode": "import matplotlib.pyplot as plt\nplt.hist(netflix_df_movies_90s[\"duration\"],bins=20, color= 'lightgreen',edgecolor='black')\nplt.title(\"Duração ao longo da década de 90\")\nplt.xlabel(\"Minutos\")\nplt.ylabel(\"Quantidade\")\nplt.tight_layout()\nplt.show()\n",
    "outputsMetadata": {
     "0": {
      "height": 185,
      "type": "stream"
     },
     "1": {
      "height": 269,
      "type": "stream"
     }
    }
   },
   "outputs": [
    {
     "data": {
      "image/png": "[encoded data removed]",
      "text/plain": [
       "<Figure size 640x480 with 1 Axes>"
      ]
     },
     "metadata": {},
     "output_type": "display_data"
    }
   ],
   "source": [
    "import matplotlib.pyplot as plt\n",
    "plt.hist(netflix_df_movies_90s[\"duration\"],bins=20, color= 'lightgreen',edgecolor='black')\n",
    "plt.title(\"Duração ao longo da década de 90\")\n",
    "plt.xlabel(\"Minutos\")\n",
    "plt.ylabel(\"Quantidade\")\n",
    "plt.tight_layout()\n",
    "plt.show()\n"
   ]
  },
  {
   "cell_type": "code",
   "execution_count": 7,
   "id": "395d9c33-d304-49f8-8197-4eed4311aeee",
   "metadata": {
    "executionCancelledAt": null,
    "executionTime": 47,
    "lastExecutedAt": 1752523637102,
    "lastExecutedByKernel": "c5d47289-d87d-433f-a684-e69e7c676f9f",
    "lastScheduledRunId": null,
    "lastSuccessfullyExecutedCode": "duration = int(netflix_df_movies_90s[\"duration\"].mode()[0])\nprint(duration)",
    "outputsMetadata": {
     "0": {
      "height": 38,
      "type": "stream"
     }
    }
   },
   "outputs": [
    {
     "name": "stdout",
     "output_type": "stream",
     "text": [
      "94\n"
     ]
    }
   ],
   "source": [
    "duration = int(netflix_df_movies_90s[\"duration\"].mode()[0])\n",
    "print(duration)"
   ]
  },
  {
   "cell_type": "markdown",
   "id": "7e6b7358-0c69-411c-8fab-8526c6599499",
   "metadata": {},
   "source": [
    "## Contando o número total de short_movies"
   ]
  },
  {
   "cell_type": "code",
   "execution_count": 8,
   "id": "318228fe-5967-4453-a43f-3a1b7264a5d1",
   "metadata": {
    "executionCancelledAt": null,
    "executionTime": null,
    "lastExecutedAt": null,
    "lastExecutedByKernel": null,
    "lastScheduledRunId": null,
    "lastSuccessfullyExecutedCode": null,
    "outputsMetadata": {
     "0": {
      "height": 221,
      "tableState": {
       "customFilter": {
        "const": {
         "type": "boolean",
         "valid": true,
         "value": true
        },
        "id": "581f7582-1271-45f0-a383-8ff3a50a2268",
        "nodeType": "const"
       }
      },
      "type": "dataFrame"
     }
    }
   },
   "outputs": [
    {
     "data": {
      "application/vnd.microsoft.datawrangler.viewer.v0+json": {
       "columns": [
        {
         "name": "index",
         "rawType": "int64",
         "type": "integer"
        },
        {
         "name": "show_id",
         "rawType": "object",
         "type": "string"
        },
        {
         "name": "type",
         "rawType": "object",
         "type": "string"
        },
        {
         "name": "title",
         "rawType": "object",
         "type": "string"
        },
        {
         "name": "director",
         "rawType": "object",
         "type": "string"
        },
        {
         "name": "cast",
         "rawType": "object",
         "type": "string"
        },
        {
         "name": "country",
         "rawType": "object",
         "type": "string"
        },
        {
         "name": "date_added",
         "rawType": "object",
         "type": "string"
        },
        {
         "name": "release_year",
         "rawType": "int64",
         "type": "integer"
        },
        {
         "name": "duration",
         "rawType": "int64",
         "type": "integer"
        },
        {
         "name": "description",
         "rawType": "object",
         "type": "string"
        },
        {
         "name": "genre",
         "rawType": "object",
         "type": "string"
        }
       ],
       "ref": "bb9761f4-7a72-4ad4-8b60-602b6804ba53",
       "rows": [
        [
         "352",
         "s508",
         "Movie",
         "Andaz Apna Apna",
         "Rajkumar Santoshi",
         "Aamir Khan, Salman Khan, Raveena Tandon, Karisma Kapoor, Paresh Rawal, Mehmood, Deven Verma, Jagdeep, Shakti Kapoor",
         "India",
         "May 11, 2020",
         "1994",
         "160",
         "Broke and with no concrete plans for the future, two young men discover that a stunning heiress lives nearby and try to charm her into marriage.",
         "Action"
        ],
        [
         "431",
         "s628",
         "Movie",
         "Austin Powers: The Spy Who Shagged Me",
         "Jay Roach",
         "Mike Myers, Heather Graham, Michael York, Robert Wagner, Rob Lowe, Seth Green, Mindy Sterling, Verne Troyer, Elizabeth Hurley, Will Ferrell",
         "United States",
         "December 1, 2019",
         "1999",
         "95",
         "When diabolical genius Dr. Evil travels back in time to steal superspy Austin Powers's \"mojo,\" Austin must return to the swingin' '60s himself.",
         "Action"
        ],
        [
         "468",
         "s688",
         "Movie",
         "Bad Boys",
         "Michael Bay",
         "Will Smith, Martin Lawrence, Téa Leoni, Tchéky Karyo, Theresa Randle, Joe Pantoliano, Emmanuel Xuereb, Michael Imperioli, Nestor Serrano, Julio Oscar Mechoso",
         "United States",
         "October 1, 2019",
         "1995",
         "119",
         "In this fast-paced actioner, two Miami narcotics cops are hot on the trail of a master crook who has snatched $100 million worth of heroin.",
         "Action"
        ],
        [
         "515",
         "s757",
         "Movie",
         "Barsaat",
         "Rajkumar Santoshi",
         "Twinkle Khanna, Bobby Deol, Danny Denzongpa, Raj Babbar, Ashwin Kaushal, Mukesh Khanna, Harish Patel",
         "India",
         "April 1, 2018",
         "1995",
         "166",
         "A naïve young man and a rich city girl fall in love. Her stepfather, however, doesn't approve of the match and will stop at nothing to split the pair.",
         "Action"
        ],
        [
         "675",
         "s1003",
         "Movie",
         "Blue Streak",
         "Les Mayfield",
         "Martin Lawrence, Luke Wilson, Peter Greene, Dave Chappelle, Nicole Ari Parker, Graham Beckel, Robert Miranda, Olek Krupa, Saverio Guerra, Richard C. Sarafian, William Forsythe",
         "Germany",
         "January 1, 2021",
         "1999",
         "94",
         "A jewel thief returns to his hiding place after a stint in jail — only to find that his diamond is buried under a newly constructed police station.",
         "Action"
        ]
       ],
       "shape": {
        "columns": 11,
        "rows": 5
       }
      },
      "text/html": [
       "<div>\n",
       "<style scoped>\n",
       "    .dataframe tbody tr th:only-of-type {\n",
       "        vertical-align: middle;\n",
       "    }\n",
       "\n",
       "    .dataframe tbody tr th {\n",
       "        vertical-align: top;\n",
       "    }\n",
       "\n",
       "    .dataframe thead th {\n",
       "        text-align: right;\n",
       "    }\n",
       "</style>\n",
       "<table border=\"1\" class=\"dataframe\">\n",
       "  <thead>\n",
       "    <tr style=\"text-align: right;\">\n",
       "      <th></th>\n",
       "      <th>show_id</th>\n",
       "      <th>type</th>\n",
       "      <th>title</th>\n",
       "      <th>director</th>\n",
       "      <th>cast</th>\n",
       "      <th>country</th>\n",
       "      <th>date_added</th>\n",
       "      <th>release_year</th>\n",
       "      <th>duration</th>\n",
       "      <th>description</th>\n",
       "      <th>genre</th>\n",
       "    </tr>\n",
       "  </thead>\n",
       "  <tbody>\n",
       "    <tr>\n",
       "      <th>352</th>\n",
       "      <td>s508</td>\n",
       "      <td>Movie</td>\n",
       "      <td>Andaz Apna Apna</td>\n",
       "      <td>Rajkumar Santoshi</td>\n",
       "      <td>Aamir Khan, Salman Khan, Raveena Tandon, Karis...</td>\n",
       "      <td>India</td>\n",
       "      <td>May 11, 2020</td>\n",
       "      <td>1994</td>\n",
       "      <td>160</td>\n",
       "      <td>Broke and with no concrete plans for the futur...</td>\n",
       "      <td>Action</td>\n",
       "    </tr>\n",
       "    <tr>\n",
       "      <th>431</th>\n",
       "      <td>s628</td>\n",
       "      <td>Movie</td>\n",
       "      <td>Austin Powers: The Spy Who Shagged Me</td>\n",
       "      <td>Jay Roach</td>\n",
       "      <td>Mike Myers, Heather Graham, Michael York, Robe...</td>\n",
       "      <td>United States</td>\n",
       "      <td>December 1, 2019</td>\n",
       "      <td>1999</td>\n",
       "      <td>95</td>\n",
       "      <td>When diabolical genius Dr. Evil travels back i...</td>\n",
       "      <td>Action</td>\n",
       "    </tr>\n",
       "    <tr>\n",
       "      <th>468</th>\n",
       "      <td>s688</td>\n",
       "      <td>Movie</td>\n",
       "      <td>Bad Boys</td>\n",
       "      <td>Michael Bay</td>\n",
       "      <td>Will Smith, Martin Lawrence, Téa Leoni, Tchéky...</td>\n",
       "      <td>United States</td>\n",
       "      <td>October 1, 2019</td>\n",
       "      <td>1995</td>\n",
       "      <td>119</td>\n",
       "      <td>In this fast-paced actioner, two Miami narcoti...</td>\n",
       "      <td>Action</td>\n",
       "    </tr>\n",
       "    <tr>\n",
       "      <th>515</th>\n",
       "      <td>s757</td>\n",
       "      <td>Movie</td>\n",
       "      <td>Barsaat</td>\n",
       "      <td>Rajkumar Santoshi</td>\n",
       "      <td>Twinkle Khanna, Bobby Deol, Danny Denzongpa, R...</td>\n",
       "      <td>India</td>\n",
       "      <td>April 1, 2018</td>\n",
       "      <td>1995</td>\n",
       "      <td>166</td>\n",
       "      <td>A naïve young man and a rich city girl fall in...</td>\n",
       "      <td>Action</td>\n",
       "    </tr>\n",
       "    <tr>\n",
       "      <th>675</th>\n",
       "      <td>s1003</td>\n",
       "      <td>Movie</td>\n",
       "      <td>Blue Streak</td>\n",
       "      <td>Les Mayfield</td>\n",
       "      <td>Martin Lawrence, Luke Wilson, Peter Greene, Da...</td>\n",
       "      <td>Germany</td>\n",
       "      <td>January 1, 2021</td>\n",
       "      <td>1999</td>\n",
       "      <td>94</td>\n",
       "      <td>A jewel thief returns to his hiding place afte...</td>\n",
       "      <td>Action</td>\n",
       "    </tr>\n",
       "  </tbody>\n",
       "</table>\n",
       "</div>"
      ],
      "text/plain": [
       "    show_id   type                                  title           director  \\\n",
       "352    s508  Movie                        Andaz Apna Apna  Rajkumar Santoshi   \n",
       "431    s628  Movie  Austin Powers: The Spy Who Shagged Me          Jay Roach   \n",
       "468    s688  Movie                               Bad Boys        Michael Bay   \n",
       "515    s757  Movie                                Barsaat  Rajkumar Santoshi   \n",
       "675   s1003  Movie                            Blue Streak       Les Mayfield   \n",
       "\n",
       "                                                  cast        country  \\\n",
       "352  Aamir Khan, Salman Khan, Raveena Tandon, Karis...          India   \n",
       "431  Mike Myers, Heather Graham, Michael York, Robe...  United States   \n",
       "468  Will Smith, Martin Lawrence, Téa Leoni, Tchéky...  United States   \n",
       "515  Twinkle Khanna, Bobby Deol, Danny Denzongpa, R...          India   \n",
       "675  Martin Lawrence, Luke Wilson, Peter Greene, Da...        Germany   \n",
       "\n",
       "           date_added  release_year  duration  \\\n",
       "352      May 11, 2020          1994       160   \n",
       "431  December 1, 2019          1999        95   \n",
       "468   October 1, 2019          1995       119   \n",
       "515     April 1, 2018          1995       166   \n",
       "675   January 1, 2021          1999        94   \n",
       "\n",
       "                                           description   genre  \n",
       "352  Broke and with no concrete plans for the futur...  Action  \n",
       "431  When diabolical genius Dr. Evil travels back i...  Action  \n",
       "468  In this fast-paced actioner, two Miami narcoti...  Action  \n",
       "515  A naïve young man and a rich city girl fall in...  Action  \n",
       "675  A jewel thief returns to his hiding place afte...  Action  "
      ]
     },
     "execution_count": 8,
     "metadata": {},
     "output_type": "execute_result"
    }
   ],
   "source": [
    "netflix_df_movies_90s_Action = netflix_df_movies_90s[\n",
    "    netflix_df_movies_90s[\"genre\"]==\"Action\"\n",
    "]\n",
    "\n",
    "\n",
    "netflix_df_movies_90s_Action.head()\n"
   ]
  },
  {
   "cell_type": "code",
   "execution_count": null,
   "id": "aed3623e-3035-4576-acb2-61ec9cc01b11",
   "metadata": {
    "executionCancelledAt": null,
    "executionTime": 49,
    "lastExecutedAt": 1752523637216,
    "lastExecutedByKernel": "c5d47289-d87d-433f-a684-e69e7c676f9f",
    "lastScheduledRunId": null,
    "lastSuccessfullyExecutedCode": "short_movie_count = 0\n\nfor duration in netflix_df_movies_90s_Action[\"duration\"]:\n    if duration < 90:\n        short_movie_count+=1\nprint(short_movie_count)",
    "outputsMetadata": {
     "0": {
      "height": 38,
      "type": "stream"
     }
    }
   },
   "outputs": [
    {
     "name": "stdout",
     "output_type": "stream",
     "text": [
      "7\n"
     ]
    }
   ],
   "source": [
    "# Melhor abordagem - usar nome de variável diferente\n",
    "short_movie_count = 0\n",
    "\n",
    "for movie_duration in netflix_df_movies_90s_Action[\"duration\"]:\n",
    "    if movie_duration < 90:\n",
    "        short_movie_count += 1\n",
    "print(f\"Número de filmes de ação dos anos 90 com menos de 90 minutos: {short_movie_count}\")"
   ]
  }
 ],
 "metadata": {
  "colab": {
   "name": "Welcome to DataCamp Workspaces.ipynb",
   "provenance": []
  },
  "editor": "DataLab",
  "kernelspec": {
   "display_name": ".venv",
   "language": "python",
   "name": "python3"
  },
  "language_info": {
   "codemirror_mode": {
    "name": "ipython",
    "version": 3
   },
   "file_extension": ".py",
   "mimetype": "text/x-python",
   "name": "python",
   "nbconvert_exporter": "python",
   "pygments_lexer": "ipython3",
   "version": "3.12.11"
  }
 },
 "nbformat": 4,
 "nbformat_minor": 5
}
